{
  "nbformat": 4,
  "nbformat_minor": 0,
  "metadata": {
    "colab": {
      "provenance": [],
      "authorship_tag": "ABX9TyOc/+5OjFZPl/Q9ReDxxA82",
      "include_colab_link": true
    },
    "kernelspec": {
      "name": "python3",
      "display_name": "Python 3"
    },
    "language_info": {
      "name": "python"
    }
  },
  "cells": [
    {
      "cell_type": "markdown",
      "metadata": {
        "id": "view-in-github",
        "colab_type": "text"
      },
      "source": [
        "<a href=\"https://colab.research.google.com/github/Excelfthn/DIP_Assignment_1/blob/main/DIP_Assignment_01.ipynb\" target=\"_parent\"><img src=\"https://colab.research.google.com/assets/colab-badge.svg\" alt=\"Open In Colab\"/></a>"
      ]
    },
    {
      "cell_type": "code",
      "execution_count": 26,
      "metadata": {
        "id": "cMZiJ4iMqDUU"
      },
      "outputs": [],
      "source": [
        "# Import required library\n",
        "import cv2 # Computer vision and image processing.\n",
        "import numpy as np # Numerical computing.\n",
        "import matplotlib.pyplot as plt #Data visualization and plotting."
      ]
    },
    {
      "cell_type": "code",
      "source": [
        "# Generate random image as a sample\n",
        "rows, cols = 10, 10\n",
        "rand_mask = np.random.randint(0, 2, (rows, cols), dtype=np.uint8)\n",
        "img_blackwhite = np.zeros((rows, cols, 3), dtype=np.uint8)\n",
        "\n",
        "for i in range(rows):\n",
        "    for j in range(cols):\n",
        "        if rand_mask[i, j] == 1:\n",
        "            img_blackwhite[i, j] = [0, 0, 0]\n",
        "        else:\n",
        "            img_blackwhite[i, j] = [255, 255, 255]"
      ],
      "metadata": {
        "id": "2C3uFUo3DFK2"
      },
      "execution_count": 27,
      "outputs": []
    },
    {
      "cell_type": "code",
      "source": [
        "# Convert original image to Grayscale\n",
        "gray_img = cv2.cvtColor(img_blackwhite, cv2.COLOR_BGR2GRAY)\n",
        "print(\"Grayscale (10x10):\\n\", gray_img)"
      ],
      "metadata": {
        "colab": {
          "base_uri": "https://localhost:8080/"
        },
        "id": "NKvEdYTfDcKR",
        "outputId": "30992c01-0b1f-43fb-88ee-ec3fef3cb751"
      },
      "execution_count": 28,
      "outputs": [
        {
          "output_type": "stream",
          "name": "stdout",
          "text": [
            "Grayscale (10x10):\n",
            " [[  0   0   0 255   0 255   0   0 255   0]\n",
            " [  0 255   0 255   0   0   0   0   0   0]\n",
            " [  0   0 255 255 255 255 255 255   0 255]\n",
            " [  0 255 255   0 255   0   0   0 255 255]\n",
            " [255 255 255   0 255 255   0 255   0   0]\n",
            " [  0 255 255 255   0 255   0   0   0   0]\n",
            " [255 255 255 255 255   0 255   0   0   0]\n",
            " [  0   0   0   0   0 255 255   0 255 255]\n",
            " [255   0 255 255 255 255 255 255   0   0]\n",
            " [255 255 255   0 255 255 255   0   0 255]]\n"
          ]
        }
      ]
    },
    {
      "cell_type": "markdown",
      "source": [
        "To make the downsampling and upsampling method more efficient, we need to convert the image to grayscale."
      ],
      "metadata": {
        "id": "h2BpCjI0JmrE"
      }
    },
    {
      "cell_type": "code",
      "source": [
        "# Down Sampling method with factor = 2\n",
        "f = 2\n",
        "\n",
        "# 1. Average pooling\n",
        "down_avg = cv2.resize(gray_img, (cols//f, rows//f), interpolation=cv2.INTER_AREA)\n",
        "\n",
        "# 2. Max pooling\n",
        "reshaped = gray_img[:rows//f*f, :cols//f*f].reshape(rows//f, f, cols//f, f)\n",
        "down_max = reshaped.max(axis=(1, 3)).astype(np.uint8)\n",
        "\n",
        "# 3. Median pooling\n",
        "down_median = np.median(reshaped, axis=(1, 3)).astype(np.uint8)\n",
        "\n",
        "# Show downsampled results\n",
        "\n",
        "print(\"\\nDownsampled (Average):\\n\", down_avg)\n",
        "print(\"\\nDownsampled (Max):\\n\", down_max)\n",
        "print(\"\\nDownsampled (Median):\\n\", down_median)\n",
        "\n"
      ],
      "metadata": {
        "colab": {
          "base_uri": "https://localhost:8080/"
        },
        "id": "DfDbE6xeDkzk",
        "outputId": "e3131dd5-f4c5-4d4e-8b9e-5bb90b92fc08"
      },
      "execution_count": 29,
      "outputs": [
        {
          "output_type": "stream",
          "name": "stdout",
          "text": [
            "\n",
            "Downsampled (Average):\n",
            " [[ 64 128  64   0  64]\n",
            " [ 64 191 191 128 191]\n",
            " [191 191 191  64   0]\n",
            " [128 128 128 128 128]\n",
            " [191 191 255 191  64]]\n",
            "\n",
            "Downsampled (Max):\n",
            " [[255 255 255   0 255]\n",
            " [255 255 255 255 255]\n",
            " [255 255 255 255   0]\n",
            " [255 255 255 255 255]\n",
            " [255 255 255 255 255]]\n",
            "\n",
            "Downsampled (Median):\n",
            " [[  0 127   0   0   0]\n",
            " [  0 255 255 127 255]\n",
            " [255 255 255   0   0]\n",
            " [127 127 127 127 127]\n",
            " [255 255 255 255   0]]\n"
          ]
        }
      ]
    },
    {
      "cell_type": "markdown",
      "source": [
        "Average pooling works by replacing each block with its average to create smoothness, max pooling takes the maximum value to preserve strong features, and median pooling uses the median value to reduce noise and produce a balanced result."
      ],
      "metadata": {
        "id": "aI_ci_H0JBdF"
      }
    },
    {
      "cell_type": "code",
      "source": [
        "# Up Sampling method\n",
        "# 1. Nearest Neighbor\n",
        "up_nn = cv2.resize(down_avg, (cols, rows), interpolation=cv2.INTER_NEAREST)\n",
        "\n",
        "# 2. Bilinear interpolation\n",
        "up_bilinear = cv2.resize(down_avg, (cols, rows), interpolation=cv2.INTER_LINEAR)\n",
        "\n",
        "# 3. Bicubic interpolation\n",
        "up_bicubic = cv2.resize(down_avg, (cols, rows), interpolation=cv2.INTER_CUBIC)\n",
        "\n",
        "# Show downsampled results\n",
        "\n",
        "print(\"\\nUpsampled (Nearest Neighbour):\\n\", up_nn)\n",
        "print(\"\\nUpsampled (Bilinear):\\n\", up_bilinear)\n",
        "print(\"\\nUpsampled (Bicubic):\\n\", up_bicubic)\n"
      ],
      "metadata": {
        "colab": {
          "base_uri": "https://localhost:8080/"
        },
        "id": "L8IQgmwODoZj",
        "outputId": "c0081a37-dcac-4830-f3fe-eb033b58cc25"
      },
      "execution_count": 30,
      "outputs": [
        {
          "output_type": "stream",
          "name": "stdout",
          "text": [
            "\n",
            "Upsampled (Nearest Neighbour):\n",
            " [[ 64  64 128 128  64  64   0   0  64  64]\n",
            " [ 64  64 128 128  64  64   0   0  64  64]\n",
            " [ 64  64 191 191 191 191 128 128 191 191]\n",
            " [ 64  64 191 191 191 191 128 128 191 191]\n",
            " [191 191 191 191 191 191  64  64   0   0]\n",
            " [191 191 191 191 191 191  64  64   0   0]\n",
            " [128 128 128 128 128 128 128 128 128 128]\n",
            " [128 128 128 128 128 128 128 128 128 128]\n",
            " [191 191 191 191 255 255 191 191  64  64]\n",
            " [191 191 191 191 255 255 191 191  64  64]]\n",
            "\n",
            "Upsampled (Bilinear):\n",
            " [[ 64  80 112 112  80  48  16  16  48  64]\n",
            " [ 64  84 124 132 108  80  48  48  80  96]\n",
            " [ 64  92 147 171 163 143 112 112 143 159]\n",
            " [ 96 120 167 191 191 171 132 120 135 143]\n",
            " [159 167 183 191 191 163 108  72  56  48]\n",
            " [175 175 175 175 175 151 104  68  44  32]\n",
            " [144 144 144 144 144 136 120 108 100  96]\n",
            " [144 144 144 148 156 156 148 136 120 112]\n",
            " [175 175 175 187 211 211 187 151 104  80]\n",
            " [191 191 191 207 239 239 207 159  96  64]]\n",
            "\n",
            "Upsampled (Bicubic):\n",
            " [[ 58  79 116 114  75  26   0   0  34  57]\n",
            " [ 51  80 129 142 113  71  36  40  82 107]\n",
            " [ 37  80 150 189 176 145 110 117 163 190]\n",
            " [ 84 119 175 215 217 188 140 123 147 160]\n",
            " [166 176 193 208 216 175 109  53  39  30]\n",
            " [189 185 178 176 183 151  99  45  21   5]\n",
            " [141 139 137 134 133 123 110 101  99  98]\n",
            " [136 135 134 139 147 152 152 144 132 125]\n",
            " [175 173 169 187 218 222 201 152 103  73]\n",
            " [198 195 190 216 255 255 231 158  87  42]]\n"
          ]
        }
      ]
    },
    {
      "cell_type": "markdown",
      "source": [
        "We use median pooling as the sample for upsampling to see the differences between downsampling and upsampling, since median pooling reduces noise and produces a more balanced downsampled image compared to the other methods.\n",
        "\n",
        "Nearest neighbor upsamples by copying the closest pixel for faster processing, bilinear uses the average of 4 neighbors for smoother but softer results, and bicubic considers 16 neighbors with cubic interpolation to produce the smoothest and most detailed image."
      ],
      "metadata": {
        "id": "Grnhyqx-IHEE"
      }
    },
    {
      "cell_type": "code",
      "source": [
        "plt.figure(figsize=(12, 6))\n",
        "\n",
        "# Show original image\n",
        "plt.subplot(2, 4, 1)\n",
        "plt.imshow(img_blackwhite, cmap='gray')\n",
        "plt.title(\"Original 10x10\")\n",
        "\n",
        "# Show downsampled results (row 1)\n",
        "plt.subplot(2, 4, 2); plt.imshow(down_avg, cmap='gray'); plt.title(\"Down Avg\")\n",
        "plt.subplot(2, 4, 3); plt.imshow(down_max, cmap='gray'); plt.title(\"Down Max\")\n",
        "plt.subplot(2, 4, 4); plt.imshow(down_median, cmap='gray'); plt.title(\"Down Median\")\n",
        "\n",
        "# Show upsampled results (row 2)\n",
        "plt.subplot(2, 4, 5); plt.imshow(up_nn, cmap='gray'); plt.title(\"Nearest Neighbour\")\n",
        "plt.subplot(2, 4, 6); plt.imshow(up_bilinear, cmap='gray'); plt.title(\"Bilinear\")\n",
        "plt.subplot(2, 4, 7); plt.imshow(up_bicubic, cmap='gray'); plt.title(\"Bicubic\")\n",
        "\n",
        "plt.tight_layout()\n",
        "plt.show()\n"
      ],
      "metadata": {
        "colab": {
          "base_uri": "https://localhost:8080/",
          "height": 614
        },
        "id": "6TdY1_EwDsV5",
        "outputId": "d54b8d19-5ec8-421e-d1f5-e8e6e0899913"
      },
      "execution_count": 32,
      "outputs": [
        {
          "output_type": "display_data",
          "data": {
            "text/plain": [
              "<Figure size 1200x600 with 7 Axes>"
            ],
            "image/png": "[encoded data removed]"
          },
          "metadata": {}
        }
      ]
    }
  ]
}